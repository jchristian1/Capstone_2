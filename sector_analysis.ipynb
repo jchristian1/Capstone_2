{
 "cells": [
  {
   "cell_type": "code",
   "execution_count": null,
   "id": "b12ce91e",
   "metadata": {},
   "outputs": [],
   "source": [
    "import numpy as np\n",
    "import pandas as pd\n",
    "import matplotlib.pyplot as plt\n",
    "import seaborn as sns"
   ]
  },
  {
   "cell_type": "code",
   "execution_count": null,
   "id": "398df57d",
   "metadata": {},
   "outputs": [],
   "source": [
    "# Load the dataset\n",
    "df = pd.read_csv('data/financial_ratios_2018_from_raw.csv')\n",
    "\n",
    "df.head()"
   ]
  },
  {
   "cell_type": "code",
   "execution_count": null,
   "id": "ae55da3b",
   "metadata": {},
   "outputs": [],
   "source": [
    "df.info()"
   ]
  },
  {
   "cell_type": "code",
   "execution_count": null,
   "id": "efbc3ea4",
   "metadata": {},
   "outputs": [],
   "source": [
    "df.describe()"
   ]
  },
  {
   "cell_type": "code",
   "execution_count": null,
   "id": "ce9c62ab",
   "metadata": {},
   "outputs": [],
   "source": [
    "df.isnull().sum()"
   ]
  },
  {
   "cell_type": "markdown",
   "id": "4ff47e2a-d16a-47d1-923d-4dc991e8f935",
   "metadata": {},
   "source": [
    "## Lets make some plots by sector for each financial ratio in our dataset"
   ]
  },
  {
   "cell_type": "markdown",
   "id": "c88c65f6-7695-47db-b13c-72d58af2c589",
   "metadata": {},
   "source": [
    "First let's create some functions that process the feature and return histograms, boxplots and the statistics."
   ]
  },
  {
   "cell_type": "code",
   "execution_count": null,
   "id": "1175c890-4896-4534-9a31-89c53af6c428",
   "metadata": {},
   "outputs": [],
   "source": [
    "def plot_histograms_and_descriptive_stats(df, feature):\n",
    "    import seaborn as sns\n",
    "    import matplotlib.pyplot as plt\n",
    "\n",
    "    sectors = df['Sector'].unique()\n",
    "\n",
    "    plt.figure(figsize=(15, 25))\n",
    "\n",
    "    # Prepare a DataFrame to store descriptive statistics\n",
    "    desc_stats = []\n",
    "\n",
    "    for i, sector in enumerate(sectors, 1):\n",
    "        sector_data = df[df['Sector'] == sector][feature].dropna()\n",
    "        stats = sector_data.describe()\n",
    "        desc_stats.append({\n",
    "            \"Sector\": sector,\n",
    "            \"Mean\": stats['mean'],\n",
    "            \"Median\": stats['50%'],\n",
    "            \"Standard Deviation\": stats['std'],\n",
    "            \"Min\": stats['min'],\n",
    "            \"Max\": stats['max']\n",
    "        })\n",
    "\n",
    "        plt.subplot(len(sectors) // 2 + 1, 2, i)\n",
    "        sns.histplot(sector_data, kde=False, bins=20, color='purple')\n",
    "        plt.title(f'{feature} - {sector}')\n",
    "        plt.xlabel(f'{feature}')\n",
    "        plt.ylabel('Frequency')\n",
    "        plt.grid(True)\n",
    "        plt.axvline(x=stats['mean'], color='r', linestyle='--', label=f\"Mean: {stats['mean']:.2f}\")\n",
    "        plt.axvline(x=stats['50%'], color='b', linestyle='-', label=f\"Median: {stats['50%']:.2f}\")\n",
    "        plt.legend()\n",
    "\n",
    "    plt.tight_layout()\n",
    "    plt.show()\n",
    "\n",
    "    # Convert the list of dictionaries to a DataFrame for better visualization\n",
    "    desc_stats_df = pd.DataFrame(desc_stats)\n",
    "    return desc_stats_df\n",
    "\n",
    "def plot_boxplots_by_sector(df, feature):\n",
    "    sectors = df['Sector'].unique()\n",
    "\n",
    "    plt.figure(figsize=(15, 25))\n",
    "\n",
    "    for i, sector in enumerate(sectors, 1):\n",
    "        plt.subplot(len(sectors) // 2 + 1, 2, i)\n",
    "        sns.boxplot(x='Sector', y=feature, data=df[df['Sector'] == sector])\n",
    "        plt.title(f'{feature} - {sector}')\n",
    "        plt.xticks(rotation=90)\n",
    "        plt.grid(True)\n",
    "\n",
    "    plt.tight_layout()\n",
    "    plt.show()\n",
    "    \n",
    "def plot_cleaned_individual_boxplots_by_sector(df, feature, threshold=1.5):\n",
    "    def remove_outliers(group, threshold=1.5):\n",
    "        Q1 = group[feature].quantile(0.25)\n",
    "        Q3 = group[feature].quantile(0.75)\n",
    "        IQR = Q3 - Q1\n",
    "        lower_bound = Q1 - threshold * IQR\n",
    "        upper_bound = Q3 + threshold * IQR\n",
    "        return group[(group[feature] >= lower_bound) & (group[feature] <= upper_bound)]\n",
    "\n",
    "    sectors = df['Sector'].unique()\n",
    "\n",
    "    plt.figure(figsize=(15, 25))\n",
    "\n",
    "    for i, sector in enumerate(sectors, 1):\n",
    "        cleaned_data = remove_outliers(df[df['Sector'] == sector])\n",
    "        sector_data = cleaned_data[feature].dropna()\n",
    "        plt.subplot(len(sectors) // 2 + 1, 2, i)\n",
    "        plt.boxplot(sector_data)\n",
    "        plt.title(f'{feature} - {sector}')\n",
    "        plt.xlabel(f'{sector}')\n",
    "        plt.ylabel(f'{feature}')\n",
    "        plt.grid(True)\n",
    "\n",
    "    plt.tight_layout()\n",
    "    plt.show()"
   ]
  },
  {
   "cell_type": "markdown",
   "id": "792a1dbb-5742-413c-873e-d6ba054b7b98",
   "metadata": {},
   "source": [
    "### 1 Price to Book Value Ratio\n",
    "\n",
    "The Price to Book Value Ratio (P/B ratio) is calculated using the formula:\n",
    "\n",
    "Price to Book Value Ratio=\n",
    "Market Price Per Share/\n",
    "Book Value Per Share\n",
    "\n",
    " \n",
    "\n",
    "This ratio measures the market's valuation of a company relative to its book value. A higher ratio suggests that the market values the company more than its accounting value, often due to expected growth or profitability. Conversely, a lower ratio may indicate undervaluation or intrinsic issues within the company.\n",
    "\n",
    "Let's analyze the descriptive statistics for the Price to Book Value Ratio by sector and check for any possible anomalies that might indicate data issues. I'll compute the mean, median, standard deviation, minimum, and maximum for each sector, alongside the histograms."
   ]
  },
  {
   "cell_type": "code",
   "execution_count": null,
   "id": "3e7b7916-726d-48a2-a16c-83885d8b1910",
   "metadata": {},
   "outputs": [],
   "source": [
    "desc_stats_df = plot_histograms_and_descriptive_stats(df, 'priceBookValueRatio')"
   ]
  },
  {
   "cell_type": "code",
   "execution_count": null,
   "id": "520c9403-a097-401b-b3b6-d343d4825d49",
   "metadata": {},
   "outputs": [],
   "source": [
    "desc_stats_df"
   ]
  },
  {
   "cell_type": "markdown",
   "id": "801adb33-f0ed-4f7e-839b-8d3d590e180c",
   "metadata": {},
   "source": [
    "### Observations:\n",
    "Outliers and Anomalies: Some sectors like Financial Services and Healthcare show extremely high means and standard deviations due to significant outliers. This can indicate potential data errors or uniquely high ratios that need further investigation.\n",
    "\n",
    "Skewness: Most sectors show a positive skew, with medians generally lower than the means, indicating that higher values (outliers) are pulling the mean upwards.\n",
    "\n",
    "Sector Variance: The variance across sectors in terms of spread and central tendencies highlights different valuation practices and market perceptions.\n",
    "\n",
    "### Analysis Implications:\n",
    "Data Validation: Extreme values, especially in sectors like Financial Services and Healthcare, should be verified for accuracy. These might be errors or special cases like companies with very small book values and relatively high stock prices.\n",
    "\n",
    "Investment Insight: Understanding typical and outlier values in each sector can help identify investment opportunities and risks, emphasizing the need for sector-specific valuation norms.\n",
    "\n",
    "This sector-specific breakdown with descriptive statistics provides a deeper insight into the financial characteristics and potential anomalies in the dataset, useful for refined analysis and strategic decision-making. ​"
   ]
  },
  {
   "cell_type": "markdown",
   "id": "5d3ef981-f670-4ef1-be72-bf757be70369",
   "metadata": {},
   "source": [
    "### We should create boxplots now to see the outliers."
   ]
  },
  {
   "cell_type": "code",
   "execution_count": null,
   "id": "a3ddbf48-74f3-45f9-b4ee-39a3d72b60b7",
   "metadata": {},
   "outputs": [],
   "source": [
    "plot_boxplots_by_sector(df,'priceBookValueRatio')"
   ]
  },
  {
   "cell_type": "markdown",
   "id": "7f59432d-da1c-4a4a-b34f-de0f4674956c",
   "metadata": {},
   "source": [
    "Observations:\n",
    "Extreme Outliers: Some sectors, such as Financial Services and Healthcare, exhibit extreme outliers. For example, the Financial Services sector has a ratio that goes up to \n",
    "1\n",
    "0\n",
    "8\n",
    "10 \n",
    "8\n",
    " , which is unusually high and likely indicates erroneous data.\n",
    "Variability Across Sectors: The variability of the price to book value ratio differs significantly among sectors. Sectors like Basic Materials and Utilities show a relatively tighter range, whereas sectors like Technology and Industrials have more spread and visible outliers.\n",
    "Skewed Distributions: Many sectors show right-skewed distributions, indicating that most companies have lower ratios with a few having very high values. This skewness is especially pronounced in sectors like Technology and Healthcare.\n",
    "Central Tendencies: The central box (interquartile range) for most sectors is quite compressed, suggesting that the majority of the data points are closely packed, but outliers are distorting the visual representation.\n",
    "Analysis:\n",
    "Data Quality Concerns: The presence of extreme outliers, particularly in sectors like Financial Services and Healthcare, suggests that there may be data quality issues. These could be due to incorrect data entries or specific cases where the book value is very low, causing the ratio to spike.\n",
    "Sector-Specific Characteristics: The differences in variability and central tendency across sectors highlight the importance of context when interpreting financial ratios. For instance, the Technology sector might naturally have a wider range of ratios due to varying growth expectations.\n",
    "Need for Data Cleaning: To get a more accurate picture, it might be useful to apply outlier detection and removal techniques. This could involve setting a threshold based on the interquartile range (IQR) to filter out extreme values.\n",
    "Recommendations:\n",
    "Outlier Removal: Implement a function to remove outliers based on the IQR method. This can help in getting a clearer view of the typical values within each sector.\n",
    "Sector-Specific Analysis: Conduct deeper dives into each sector separately, considering the context and characteristics unique to that sector.\n",
    "Data Validation: Review and validate the data entries, especially for sectors with extreme outliers, to ensure accuracy.\n"
   ]
  },
  {
   "cell_type": "code",
   "execution_count": null,
   "id": "919c6cac-f27e-44a3-896b-b6e7a4a50ea1",
   "metadata": {},
   "outputs": [],
   "source": [
    "\n",
    "# Example usage:\n",
    "plot_cleaned_individual_boxplots_by_sector(df, 'priceBookValueRatio')\n"
   ]
  },
  {
   "cell_type": "code",
   "execution_count": null,
   "id": "993dfaa2-72d1-4aec-96a2-b2fc457f7dcc",
   "metadata": {},
   "outputs": [],
   "source": []
  }
 ],
 "metadata": {
  "kernelspec": {
   "display_name": "Python 3 (ipykernel)",
   "language": "python",
   "name": "python3"
  },
  "language_info": {
   "codemirror_mode": {
    "name": "ipython",
    "version": 3
   },
   "file_extension": ".py",
   "mimetype": "text/x-python",
   "name": "python",
   "nbconvert_exporter": "python",
   "pygments_lexer": "ipython3",
   "version": "3.12.4"
  }
 },
 "nbformat": 4,
 "nbformat_minor": 5
}
