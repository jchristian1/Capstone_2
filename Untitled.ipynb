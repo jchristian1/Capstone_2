{
 "cells": [
  {
   "cell_type": "code",
   "execution_count": 1,
   "id": "02706c26-2a7e-4313-8906-a0f30048e1c6",
   "metadata": {},
   "outputs": [
    {
     "name": "stdout",
     "output_type": "stream",
     "text": [
      "Model: RandomForest_PCA70\n",
      "  Mean Squared Error: 1005.5921552665295\n",
      "  R2 Score: 0.5437804331634974\n",
      "\n",
      "Model: Lasso_PCA70\n",
      "  Mean Squared Error: 1000.9281512082458\n",
      "  R2 Score: 0.5458964102025485\n",
      "\n",
      "Final model training and evaluation completed. Results saved to 'final_model_results.csv'.\n"
     ]
    }
   ],
   "source": [
    "import pandas as pd\n",
    "from sklearn.decomposition import PCA\n",
    "from sklearn.ensemble import RandomForestRegressor\n",
    "from sklearn.linear_model import Lasso\n",
    "from sklearn.metrics import mean_squared_error, r2_score\n",
    "\n",
    "# Load the datasets\n",
    "train_data = pd.read_csv('training_testing_validation_data/training_set.csv')\n",
    "validation_data = pd.read_csv('training_testing_validation_data/validation_set.csv')\n",
    "test_data = pd.read_csv('training_testing_validation_data/test_set.csv')\n",
    "\n",
    "# Combine training and validation data\n",
    "combined_data = pd.concat([train_data, validation_data])\n",
    "X_combined = combined_data.drop(columns=['Alpha'])\n",
    "y_combined = combined_data['Alpha']\n",
    "\n",
    "X_test = test_data.drop(columns=['Alpha'])\n",
    "y_test = test_data['Alpha']\n",
    "\n",
    "# Define the models\n",
    "models = {\n",
    "    'RandomForest': RandomForestRegressor(),\n",
    "    'Lasso': Lasso()\n",
    "}\n",
    "\n",
    "results = {}\n",
    "\n",
    "# Train models using PCA (70% variance)\n",
    "pca_70 = PCA(n_components=0.7)\n",
    "X_combined_pca_70 = pca_70.fit_transform(X_combined)\n",
    "X_test_pca_70 = pca_70.transform(X_test)\n",
    "\n",
    "for name, model in models.items():\n",
    "    model.fit(X_combined_pca_70, y_combined)\n",
    "    y_pred = model.predict(X_test_pca_70)\n",
    "    mse = mean_squared_error(y_test, y_pred)\n",
    "    r2 = r2_score(y_test, y_pred)\n",
    "    results[f\"{name}_PCA70\"] = {'MSE': mse, 'R2': r2}\n",
    "\n",
    "# Display the results\n",
    "for model_name, metrics in results.items():\n",
    "    print(f\"Model: {model_name}\")\n",
    "    print(f\"  Mean Squared Error: {metrics['MSE']}\")\n",
    "    print(f\"  R2 Score: {metrics['R2']}\")\n",
    "    print()\n",
    "\n",
    "print(\"Final model training and evaluation completed. Results saved to 'final_model_results.csv'.\")\n"
   ]
  },
  {
   "cell_type": "code",
   "execution_count": null,
   "id": "41910559-fd2f-4745-97fc-706db0aba97e",
   "metadata": {},
   "outputs": [],
   "source": []
  }
 ],
 "metadata": {
  "kernelspec": {
   "display_name": "Python 3 (ipykernel)",
   "language": "python",
   "name": "python3"
  },
  "language_info": {
   "codemirror_mode": {
    "name": "ipython",
    "version": 3
   },
   "file_extension": ".py",
   "mimetype": "text/x-python",
   "name": "python",
   "nbconvert_exporter": "python",
   "pygments_lexer": "ipython3",
   "version": "3.12.4"
  }
 },
 "nbformat": 4,
 "nbformat_minor": 5
}
